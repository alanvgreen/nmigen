{
  "nbformat": 4,
  "nbformat_minor": 0,
  "metadata": {
    "colab": {
      "name": "PLLSolver.pynb",
      "provenance": [],
      "collapsed_sections": [
        "MB3Vm-VZIQI2"
      ],
      "authorship_tag": "ABX9TyNDwBggMF/P1kY8fipmXinX",
      "include_colab_link": true
    },
    "kernelspec": {
      "name": "python3",
      "display_name": "Python 3"
    }
  },
  "cells": [
    {
      "cell_type": "markdown",
      "metadata": {
        "id": "view-in-github",
        "colab_type": "text"
      },
      "source": [
        "<a href=\"https://colab.research.google.com/github/alanvgreen/nmigen/blob/pll/experiments/PLLSolver_pynb.ipynb\" target=\"_parent\"><img src=\"https://colab.research.google.com/assets/colab-badge.svg\" alt=\"Open In Colab\"/></a>"
      ]
    },
    {
      "cell_type": "markdown",
      "metadata": {
        "id": "MB3Vm-VZIQI2"
      },
      "source": [
        "Copyright 2020 Google LLC.\n",
        "\n",
        "SPDX-License-Identifier: Apache-2.0\n",
        "\n",
        "# A Parameter Solver for PLLs\n",
        "\n",
        "Modern FPGA PLLs can be very sophisticated. However, the core functionality of FPGAs is quite consistent from vendor to vendor and family to family:\n",
        "\n",
        "- a single input clock\n",
        "- optional divider on input clock\n",
        "- a phase detector that drives a VCO to produce the VCO clock\n",
        "- a VCO clock divider that provides the second input to the phase detector\n",
        "- multiple output clocks, each with their own divider\n",
        "\n",
        "This notebook provides a method for calculating the divider parameters for a given FPGA PLL, input clock frequency and output clock frequency.\n",
        "\n",
        "The ideas here were abstracted from https://github.com/enjoy-digital/litex/blob/master/litex/soc/cores/clock.py, where a less general from of this calculation has been cut-and-paste-and-tweaked into a few diffierent place.\n",
        "\n",
        "\n",
        "## Todo\n",
        "\n",
        "-   Return values:\n",
        "    -   VCO freq\n",
        "    -   Graceful failures - distinguish between out of range inputs and no solutions found\n",
        "-    More tests, more docs"
      ]
    },
    {
      "cell_type": "markdown",
      "metadata": {
        "id": "lQuvSME2Dhs0"
      },
      "source": [
        "# Clock Frequency.\n",
        "\n",
        "PLLs (Phase Locked Loops) take a clock of one frequency and produce one or more clocks of other frequencies."
      ]
    },
    {
      "cell_type": "code",
      "metadata": {
        "id": "khjIhXEUEPiY",
        "outputId": "f985f016-be44-400f-e927-a7a868eb2000",
        "colab": {
          "base_uri": "https://localhost:8080/",
          "height": 34
        }
      },
      "source": [
        "EPSILON = 1e-6\n",
        "\n",
        "def less_than_or_equal(a, b):\n",
        "  return a < b or (abs(a) - abs(b)) < EPSILON\n",
        "\n",
        "class FrequencyRange:\n",
        "  \"\"\"A range of frequencies. \n",
        "  \n",
        "  May represent a requested clock frequency, an input clock frequency or the\n",
        "  allowed range of a clock.\n",
        "  \"\"\"\n",
        "  @staticmethod\n",
        "  def nominally(value, accuracy=0.01):\n",
        "    return FrequencyRange(value * (1-accuracy), value * (1 + accuracy))\n",
        "\n",
        "  def __init__(self, min_freq, max_freq):\n",
        "    self.min_freq = min_freq\n",
        "    self.max_freq = max_freq\n",
        "\n",
        "  def  __contains__(self, other):\n",
        "    \"\"\"True if the whole range of other is contained in self\"\"\"\n",
        "    return (\n",
        "        less_than_or_equal(self.min_freq, other.min_freq) and \n",
        "        less_than_or_equal(other.max_freq, self.max_freq))\n",
        "\n",
        "  def __truediv__(self, div):\n",
        "    \"\"\"Returns this frequency divided by integer div\"\"\"\n",
        "    return FrequencyRange(self.min_freq / div, self.max_freq / div)\n",
        "    \n",
        "  def __mul__(self, mul):\n",
        "    \"\"\"Returns this frequency multiplied by integer mul\"\"\"\n",
        "    return FrequencyRange(self.min_freq * mul, self.max_freq * mul)\n",
        "\n",
        "  def __repr__(self):\n",
        "    return f\"FrequencyRange({self.min_freq}, {self.max_freq})\"\n",
        "    \n",
        "FrequencyRange.nominally(10) in FrequencyRange(8, 400)"
      ],
      "execution_count": 3,
      "outputs": [
        {
          "output_type": "execute_result",
          "data": {
            "text/plain": [
              "True"
            ]
          },
          "metadata": {
            "tags": []
          },
          "execution_count": 3
        }
      ]
    },
    {
      "cell_type": "code",
      "metadata": {
        "id": "oAFkBah3aeRn"
      },
      "source": [
        "class Problem:\n",
        "  def __init__(self, input_freq, output_freqs):\n",
        "    self.input_freq = input_freq\n",
        "    self.output_freqs = output_freqs\n",
        "  def __repr__(self):\n",
        "    return f\"Problem({self.input_freq}, {self.output_freqs})\"\n",
        "\n",
        "class Solution:\n",
        "  def __init__(self, input_div, vco_div, output_divs):\n",
        "    self.input_div = input_div\n",
        "    self.vco_div = vco_div\n",
        "    self.output_divs = output_divs\n",
        "\n",
        "  def __repr__(self):\n",
        "    return f\"Solution({self.input_div}, {self.vco_div}, {self.output_divs})\"\n"
      ],
      "execution_count": 4,
      "outputs": []
    },
    {
      "cell_type": "code",
      "metadata": {
        "id": "1tzUEeapJzmy",
        "outputId": "344c05d4-6b9c-40e9-c2b7-682a84c0d854",
        "colab": {
          "base_uri": "https://localhost:8080/",
          "height": 357
        }
      },
      "source": [
        "class Solver:\n",
        "  def __init__(self, \n",
        "               allowed_input_divs, \n",
        "               allowed_vco_divs, \n",
        "               allowed_output_divs, \n",
        "               allowed_input_range,\n",
        "               allowed_pfd_range, \n",
        "               allowed_vco_range, \n",
        "               allowed_output_range):\n",
        "    self.allowed_input_divs = allowed_input_divs\n",
        "    self.allowed_vco_divs = allowed_vco_divs\n",
        "    self.allowed_output_divs = allowed_output_divs\n",
        "    self.allowed_input_range = allowed_input_range\n",
        "    self.allowed_pfd_range = allowed_pfd_range\n",
        "    self.allowed_vco_range = allowed_vco_range\n",
        "    self.allowed_output_range = allowed_output_range\n",
        "\n",
        "  def solve(self, problem):\n",
        "    # Check input params\n",
        "    assert problem.input_freq in self.allowed_input_range\n",
        "    for o in problem.output_freqs: assert o in self.allowed_output_range\n",
        "\n",
        "    for input_div in self.allowed_input_divs:\n",
        "      # Try a PFD frequency\n",
        "      pfd_freq = problem.input_freq / input_div\n",
        "      if pfd_freq in self.allowed_pfd_range:\n",
        "        for vco_div in self.allowed_vco_divs:\n",
        "          # Try a VCO frequency\n",
        "          vco_freq = pfd_freq * vco_div\n",
        "          if vco_freq in self.allowed_vco_range:\n",
        "            # Check whether every output can be made\n",
        "            output_divs = []\n",
        "            vco_freq_is_ok = True\n",
        "            for output_freq in problem.output_freqs:\n",
        "              if vco_freq_is_ok:\n",
        "                for output_div in self.allowed_output_divs:\n",
        "                  if (vco_freq / output_div) in output_freq:\n",
        "                    output_divs.append(output_div)\n",
        "                    break\n",
        "                else:\n",
        "                  vco_freq_is_ok = False\n",
        "            if vco_freq_is_ok:\n",
        "              yield Solution(input_div, vco_div, output_divs)\n",
        "\n",
        "  def solve1(self, problem):\n",
        "    return next(solve(self, problem), None)\n",
        "            \n",
        "def closed_range(min, max): return range(min, max+1)\n",
        "\n",
        "ECP5_SOLVER = Solver(\n",
        "    closed_range(1, 128),\n",
        "    closed_range(1, 128),\n",
        "    closed_range(1, 128),\n",
        "    FrequencyRange(8.0, 400.0),\n",
        "    FrequencyRange(10.0, 400.0),\n",
        "    FrequencyRange(400.0, 800.0),\n",
        "    FrequencyRange(3.125, 400.0)\n",
        ")\n",
        "\n",
        "\n",
        "def print_all_solutions(problem):\n",
        "  solutions = [s for s in ECP5_SOLVER.solve(problem)]\n",
        "  print(f\"solve({problem})\")\n",
        "  print(f\"  There are {len(solutions)} solutions.\")\n",
        "  for solution in solutions:\n",
        "    print(f\"    {solution}\")\n",
        "\n",
        "one_clock = Problem(\n",
        "   FrequencyRange.nominally(20, 0.01),\n",
        "   [FrequencyRange.nominally(100, 0.055)])\n",
        "\n",
        "three_clocks = Problem(\n",
        "    FrequencyRange.nominally(50, 0.01),\n",
        "    [FrequencyRange.nominally(100, 0.05), FrequencyRange.nominally(198 ,0.05), FrequencyRange.nominally(70, 0.05)])\n",
        "\n",
        "print_all_solutions(one_clock)\n",
        "print_all_solutions(three_clocks)"
      ],
      "execution_count": 11,
      "outputs": [
        {
          "output_type": "stream",
          "text": [
            "solve(Problem(FrequencyRange(19.8, 20.2), [FrequencyRange(94.5, 105.5)]))\n",
            "  There are 10 solutions.\n",
            "    Solution(1, 24, [5])\n",
            "    Solution(1, 25, [5])\n",
            "    Solution(1, 26, [5])\n",
            "    Solution(1, 29, [6])\n",
            "    Solution(1, 30, [6])\n",
            "    Solution(1, 31, [6])\n",
            "    Solution(1, 34, [7])\n",
            "    Solution(1, 35, [7])\n",
            "    Solution(1, 36, [7])\n",
            "    Solution(1, 39, [8])\n",
            "solve(Problem(FrequencyRange(49.5, 50.5), [FrequencyRange(95.0, 105.0), FrequencyRange(188.1, 207.9), FrequencyRange(66.5, 73.5)]))\n",
            "  There are 6 solutions.\n",
            "    Solution(2, 31, [8, 4, 11])\n",
            "    Solution(3, 37, [6, 3, 9])\n",
            "    Solution(3, 47, [8, 4, 11])\n",
            "    Solution(4, 49, [6, 3, 9])\n",
            "    Solution(4, 62, [8, 4, 11])\n",
            "    Solution(4, 63, [8, 4, 11])\n"
          ],
          "name": "stdout"
        }
      ]
    }
  ]
}